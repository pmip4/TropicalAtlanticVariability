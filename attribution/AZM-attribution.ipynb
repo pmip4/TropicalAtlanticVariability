{
 "cells": [
  {
   "cell_type": "markdown",
   "metadata": {},
   "source": [
    "# Using the attribution runs to look at tropical Atlantic variability"
   ]
  },
  {
   "cell_type": "code",
   "execution_count": null,
   "metadata": {},
   "outputs": [],
   "source": [
    "import xarray as xr\n",
    "import numpy as np\n",
    "import matplotlib.pyplot as plt\n",
    "import os"
   ]
  },
  {
   "cell_type": "code",
   "execution_count": null,
   "metadata": {},
   "outputs": [],
   "source": [
    "def load_cvdp_timeseries(ts_name,dir_name):\n",
    "    nc_file_name=ts_name+\".\"+dir_name+\".nc\"\n",
    "    if os.path.exists(nc_file_name):\n",
    "        # Load the dataset using xarray\n",
    "        da = xr.open_dataset(nc_file_name)\n",
    "        print('Loaded '+ts_name+' from pre-existing file called '+nc_file_name)\n",
    "    else:\n",
    "        print('Extracting '+ts_name+' from all the cvdp_files in '+dir_name+' ...')\n",
    "        # Look in the provided directory\n",
    "        file_names = os.listdir('cmip6.hist-aer.cvdp_data')\n",
    "        # Filter the file names to include only those with the .nc extension\n",
    "        paths = [file_name for file_name in file_names if file_name.endswith('.nc')]\n",
    "        #Load in an example file to get some metadata\n",
    "        dataset = xr.open_dataset(dir_name+'/'+paths[0],decode_times=False)\n",
    "        dataset.time.attrs['calendar']='360_day'\n",
    "        dataset.time_mon1.attrs['calendar']='360_day'\n",
    "        dataset.time_mon2.attrs['calendar']='360_day'\n",
    "        dataset.time_mon3.attrs['calendar']='360_day'\n",
    "        dataset=xr.decode_cf(dataset,decode_times=True)\n",
    "        dataset=dataset.convert_calendar('proleptic_gregorian',align_on='year')\n",
    "        time=dataset.time\n",
    "        num_months = time.size #number of months (this code assumes all files have equal length!)\n",
    "        # Number of ensemble members\n",
    "        num_ensemble_members = len(paths)\n",
    "        # Create a DataArray to hold all the ensemble members\n",
    "        ensemble_member = xr.IndexVariable('ensemble_member', np.arange(num_ensemble_members))\n",
    "        da = xr.DataArray(np.full((num_ensemble_members,num_months),np.nan), coords=[ensemble_member,time],\n",
    "                          dims=['ensemble_member', 'time'], name=ts_name)\n",
    "        # Fill up the dataArray by looping over each file\n",
    "        for i in range(1,num_ensemble_members-1):\n",
    "            # Open the dataset using xarray\n",
    "            dataset = xr.open_dataset(dir_name+'/'+paths[i],decode_times=False)\n",
    "            dataset.time.attrs['calendar']='360_day'\n",
    "            dataset.time_mon1.attrs['calendar']='360_day'\n",
    "            dataset.time_mon2.attrs['calendar']='360_day'\n",
    "            dataset.time_mon3.attrs['calendar']='360_day'\n",
    "            dataset=xr.decode_cf(dataset,decode_times=True)\n",
    "            dataset=dataset.convert_calendar('proleptic_gregorian',align_on='year')\n",
    "            # Extract time series of interest\n",
    "            da[i,:] = dataset[ts_name]\n",
    "\n",
    "        # Print the information about the DataArray\n",
    "        print('and saved it to a file called '+nc_file_name+'for later use')\n",
    "        da.to_netcdf(nc_file_name)\n",
    "    \n",
    "    return da"
   ]
  },
  {
   "cell_type": "code",
   "execution_count": null,
   "metadata": {},
   "outputs": [],
   "source": [
    "aer_array=load_cvdp_timeseries('atlantic_nino','cmip6.hist-aer.cvdp_data')\n",
    "ghg_array=load_cvdp_timeseries('atlantic_nino','cmip6.hist-GHG.cvdp_data')\n",
    "ghg_array\n"
   ]
  },
  {
   "cell_type": "code",
   "execution_count": null,
   "metadata": {},
   "outputs": [],
   "source": [
    "# convert to anomalies\n",
    "aer_array.plot()\n",
    "plt.title('ATL3 in aerosol-driven runs (oC)')"
   ]
  },
  {
   "cell_type": "code",
   "execution_count": null,
   "metadata": {},
   "outputs": [],
   "source": [
    "# Compute the running standard deviation\n",
    "window_size = 120  # Number of months in the running window\n",
    "running_std = aer_array.rolling(time=window_size).std()\n",
    "# convert to anomalies\n",
    "running_std=running_std-running_std.sel(time=slice('1850-01-01','1899-12-31')).mean(dim='time')\n",
    "running_std.plot()\n",
    "plt.title('Aerosol-driven change in ATL3 std dev. (since 1850-99, oC^2)')"
   ]
  },
  {
   "cell_type": "code",
   "execution_count": null,
   "metadata": {},
   "outputs": [],
   "source": [
    "#Create some plots\n",
    "#mean_state=ghg_array-ghg_array.sel(time=slice('1850-01-01','1899-12-31')).mean(dim='time')\n",
    "mean_state=ghg_array\n",
    "mean_state.plot()\n",
    "plt.title('ATL3 in GHG-driven runs (oC)')"
   ]
  },
  {
   "cell_type": "code",
   "execution_count": null,
   "metadata": {},
   "outputs": [],
   "source": [
    "# Compute the running standard deviation\n",
    "window_size = 120  # Number of months in the running window\n",
    "running_std = ghg_array.rolling(time=window_size).std()\n",
    "# convert to anomalies\n",
    "running_std=running_std-running_std.sel(time=slice('1850-01-01','1899-12-31')).mean(dim='time')\n",
    "running_std.plot()\n",
    "plt.title('GHG-driven change in ATL3 std dev. (since 1850-99, oC^2)')"
   ]
  },
  {
   "cell_type": "markdown",
   "metadata": {},
   "source": [
    "#### Now create a more conventional time series figure. Basing this on IPCC AR6 WG1 Fig 3.9 "
   ]
  },
  {
   "cell_type": "code",
   "execution_count": null,
   "metadata": {},
   "outputs": [],
   "source": [
    "# Compute the median and percentile ranges along the y-axis\n",
    "print(aer_array)\n",
    "median = aer_array.median(dim='ensemble_member')\n",
    "percentile_10 = aer_array.quantile(0.1, dim='ensemble_member')\n",
    "percentile_90 = aer_array.quantile(0.9, dim='ensemble_member')\n",
    "print(median)\n",
    "\n",
    "# Plot the results\n",
    "plt.plot(aer_array.time, median.atlantic_nino, label='Median')\n",
    "plt.fill_between(aer_array.time, percentile_10, percentile_90, alpha=0.2, label='10th-90th Percentile Range')\n",
    "\n",
    "# Customize the plot\n",
    "plt.xlabel('X')\n",
    "plt.ylabel('Y')\n",
    "plt.title('Median and Percentile Range')\n",
    "plt.legend()\n",
    "\n",
    "# Show the plot\n",
    "plt.show()"
   ]
  },
  {
   "cell_type": "code",
   "execution_count": null,
   "metadata": {},
   "outputs": [],
   "source": []
  }
 ],
 "metadata": {
  "kernelspec": {
   "display_name": "my-cli-py",
   "language": "python",
   "name": "python3"
  },
  "language_info": {
   "codemirror_mode": {
    "name": "ipython",
    "version": 3
   },
   "file_extension": ".py",
   "mimetype": "text/x-python",
   "name": "python",
   "nbconvert_exporter": "python",
   "pygments_lexer": "ipython3",
   "version": "3.10.6"
  },
  "orig_nbformat": 4
 },
 "nbformat": 4,
 "nbformat_minor": 2
}
